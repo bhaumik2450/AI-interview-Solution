{
 "cells": [
  {
   "cell_type": "markdown",
   "metadata": {
    "id": "9_7yNn6S5HPg"
   },
   "source": [
    "# What is a Generator and why use it?"
   ]
  },
  {
   "cell_type": "code",
   "execution_count": null,
   "metadata": {
    "colab": {
     "base_uri": "https://localhost:8080/"
    },
    "id": "FfMp1frP5HPi",
    "outputId": "a873ecfb-3c5e-4cc9-c153-15889e110c46"
   },
   "outputs": [],
   "source": [
    "def csv_reader(file_name):\n",
    "    for row in open(file_name, \"r\"):\n",
    "        yield row\n",
    "!wget -O data.csv https://www.stats.govt.nz/assets/Uploads/Annual-enterprise-survey/Annual-enterprise-survey-2020-financial-year-provisional/Download-data/annual-enterprise-survey-2020-financial-year-provisional-csv.csv\n",
    "reader = csv_reader(\"data.csv\")\n",
    "print(next(reader))\n",
    "print(next(reader))"
   ]
  },
  {
   "cell_type": "markdown",
   "metadata": {},
   "source": [
    "Generators can be ieterated on value at a time so it will help to save memory when we are working with large amount of data."
   ]
  },
  {
   "cell_type": "markdown",
   "metadata": {
    "id": "Mr1omLgs5HPj"
   },
   "source": [
    "# What is a Decorator and why use it?"
   ]
  },
  {
   "cell_type": "code",
   "execution_count": 1,
   "metadata": {
    "id": "N5h9pSA65HPk",
    "outputId": "c63f466b-5569-47c1-c746-444a70c4e3c7"
   },
   "outputs": [
    {
     "name": "stdout",
     "output_type": "stream",
     "text": [
      "Daniel\n",
      "=====\n",
      "This is your name: Daniel\n",
      "=====\n",
      "Your name is: Daniel\n",
      "Nice to meet you.\n"
     ]
    }
   ],
   "source": [
    "def getName():\n",
    "    return \"Daniel\"\n",
    "\n",
    "def addTextToName(function):\n",
    "    def wrapper():\n",
    "        return \"This is your name: {}\".format(function())\n",
    "    return wrapper\n",
    "\n",
    "namePrinter = addTextToName(getName)\n",
    "\n",
    "def wrapName(func):\n",
    "    def wrapper():\n",
    "        print(\"Your name is: {}\".format(func()))\n",
    "        print(\"Nice to meet you.\")\n",
    "    return wrapper\n",
    "\n",
    "@wrapName\n",
    "def getNameWrapped():\n",
    "    return \"Daniel\"\n",
    "\n",
    "print(getName())\n",
    "print(\"=====\")\n",
    "print(namePrinter())\n",
    "print(\"=====\")\n",
    "getNameWrapped()"
   ]
  },
  {
   "cell_type": "markdown",
   "metadata": {},
   "source": [
    "Decorators allows to modify or add the fuctionality to existing function without modifying it. "
   ]
  },
  {
   "cell_type": "markdown",
   "metadata": {
    "id": "qyMHhml95HPk"
   },
   "source": [
    "# What is list/dict comprehension and why use it?"
   ]
  },
  {
   "cell_type": "code",
   "execution_count": 2,
   "metadata": {
    "id": "VDIXSKIK5HPl",
    "outputId": "367903a6-3bb9-4e7e-e6bb-264bf7267cf0"
   },
   "outputs": [
    {
     "name": "stdout",
     "output_type": "stream",
     "text": [
      "{'key_Anne': 56500.0, 'key_Bert': 67800.0, 'key_Carl': 79100.0, 'key_Dom': 90400.0}\n"
     ]
    }
   ],
   "source": [
    "salaries = {'Anne': 50000, 'Bert': 60000, 'Carl': 70000, 'Dom': 80000}\n",
    "raisedSalaries = {\"key_\"+k:round(v*1.13,0) for (k,v) in salaries.items()}\n",
    "print(raisedSalaries)"
   ]
  },
  {
   "cell_type": "code",
   "execution_count": 3,
   "metadata": {
    "id": "tThBumJM5HPl",
    "outputId": "b1ab4071-7ba9-4fca-ba82-987f347e7b5e"
   },
   "outputs": [
    {
     "data": {
      "text/plain": [
       "[1]"
      ]
     },
     "execution_count": 3,
     "metadata": {},
     "output_type": "execute_result"
    }
   ],
   "source": [
    "something = [1,2,3]\n",
    "a = [i for i in something if i<2]\n",
    "a"
   ]
  },
  {
   "cell_type": "markdown",
   "metadata": {},
   "source": [
    "Comprehension allows the creation of new iterable from the existing iterable by using shorter syntex.  "
   ]
  },
  {
   "cell_type": "markdown",
   "metadata": {
    "id": "WLaKyiHx5HPm"
   },
   "source": [
    "# You are multithreading a list of parallel tasks using a thread pool. What is t.join() used for? What is the purpose of using t.join() rather than skipping it. This program seems to work with or without the t.join(). Why do we still include it?"
   ]
  },
  {
   "cell_type": "code",
   "execution_count": 6,
   "metadata": {
    "id": "FmoYy1Is5HPm",
    "outputId": "793b2cf9-d5f9-44a4-e609-623d4b731d19"
   },
   "outputs": [
    {
     "name": "stdout",
     "output_type": "stream",
     "text": [
      "done 1done 0done 2\n",
      "\n",
      "\n",
      "ALL WORK DONE\n",
      "TOTAL=3\n"
     ]
    }
   ],
   "source": [
    "from threading import Thread\n",
    "from queue import Queue\n",
    "import time\n",
    "\n",
    "def worker(args,q):\n",
    "    time.sleep(1)\n",
    "    print(\"done {}\".format(args))\n",
    "    q.put(1)\n",
    "    return\n",
    "\n",
    "workerList=[]\n",
    "for i in range(3):\n",
    "    q = Queue()\n",
    "    t = Thread(target=worker,args=(i,q))\n",
    "    t.start()\n",
    "    workerList.append([q,t])\n",
    "\n",
    "for i,workerPair in enumerate(workerList):\n",
    "    workerPair[1].join()\n",
    "   \n",
    "print(\"ALL WORK DONE\")\n",
    "\n",
    "total=0\n",
    "for i,workerPair in enumerate(workerList):\n",
    "    total+=workerPair[0].get()\n",
    "    \n",
    "print(\"TOTAL={}\".format(total))"
   ]
  },
  {
   "cell_type": "markdown",
   "metadata": {},
   "source": [
    "One way to think of join() as a \"hold\" on the main thread -- it sort of de-threads your thread and executes sequentially in the main thread, before the main thread can continue. It assures that your thread is complete before the main thread moves forward. Note that this means it's ok if your thread is already finished before you call the join() -- the main thread is simply released immediately when join() is called."
   ]
  },
  {
   "cell_type": "markdown",
   "metadata": {
    "id": "yfAjOVAt5HPn"
   },
   "source": [
    "# What is df.apply(myFunction, axis=1)?"
   ]
  },
  {
   "cell_type": "code",
   "execution_count": 7,
   "metadata": {
    "id": "J8oFrKfD5HPo",
    "outputId": "84015188-446e-4130-ae8b-9e1a6528f38a"
   },
   "outputs": [
    {
     "data": {
      "text/html": [
       "<div>\n",
       "<style scoped>\n",
       "    .dataframe tbody tr th:only-of-type {\n",
       "        vertical-align: middle;\n",
       "    }\n",
       "\n",
       "    .dataframe tbody tr th {\n",
       "        vertical-align: top;\n",
       "    }\n",
       "\n",
       "    .dataframe thead th {\n",
       "        text-align: right;\n",
       "    }\n",
       "</style>\n",
       "<table border=\"1\" class=\"dataframe\">\n",
       "  <thead>\n",
       "    <tr style=\"text-align: right;\">\n",
       "      <th></th>\n",
       "      <th>name</th>\n",
       "      <th>reversed</th>\n",
       "    </tr>\n",
       "  </thead>\n",
       "  <tbody>\n",
       "    <tr>\n",
       "      <th>0</th>\n",
       "      <td>Alice</td>\n",
       "      <td>ecilA</td>\n",
       "    </tr>\n",
       "    <tr>\n",
       "      <th>1</th>\n",
       "      <td>Bob</td>\n",
       "      <td>boB</td>\n",
       "    </tr>\n",
       "  </tbody>\n",
       "</table>\n",
       "</div>"
      ],
      "text/plain": [
       "    name reversed\n",
       "0  Alice    ecilA\n",
       "1    Bob      boB"
      ]
     },
     "metadata": {},
     "output_type": "display_data"
    }
   ],
   "source": [
    "import pandas as pd\n",
    "\n",
    "def reverseName(row):\n",
    "    text=row[\"name\"]\n",
    "    return \"\".join(reversed(list(text)))\n",
    "\n",
    "df = pd.DataFrame(data={'name': [\"Alice\", \"Bob\"]})\n",
    "df[\"reversed\"]=df.apply(reverseName,axis=1)\n",
    "display(df.head())"
   ]
  },
  {
   "cell_type": "markdown",
   "metadata": {},
   "source": [
    "The function will apply a function ('reversename') to each row in the dataframe because the axis argument is taken as 1."
   ]
  },
  {
   "cell_type": "markdown",
   "metadata": {
    "id": "WA5pPH_X5HPo"
   },
   "source": [
    "# What operation is df1.merge(df2, left_on='lkey', right_on='rkey') doing? What would this be called in SQL?"
   ]
  },
  {
   "cell_type": "code",
   "execution_count": 9,
   "metadata": {
    "id": "L5HWzvMG5HPo",
    "outputId": "ca6e400c-3a77-4408-f1ad-f88bca4856f8"
   },
   "outputs": [
    {
     "data": {
      "text/html": [
       "<div>\n",
       "<style scoped>\n",
       "    .dataframe tbody tr th:only-of-type {\n",
       "        vertical-align: middle;\n",
       "    }\n",
       "\n",
       "    .dataframe tbody tr th {\n",
       "        vertical-align: top;\n",
       "    }\n",
       "\n",
       "    .dataframe thead th {\n",
       "        text-align: right;\n",
       "    }\n",
       "</style>\n",
       "<table border=\"1\" class=\"dataframe\">\n",
       "  <thead>\n",
       "    <tr style=\"text-align: right;\">\n",
       "      <th></th>\n",
       "      <th>name</th>\n",
       "      <th>demerits</th>\n",
       "      <th>convictions</th>\n",
       "    </tr>\n",
       "  </thead>\n",
       "  <tbody>\n",
       "    <tr>\n",
       "      <th>0</th>\n",
       "      <td>Brian</td>\n",
       "      <td>2</td>\n",
       "      <td>6</td>\n",
       "    </tr>\n",
       "    <tr>\n",
       "      <th>1</th>\n",
       "      <td>Bill</td>\n",
       "      <td>3</td>\n",
       "      <td>7</td>\n",
       "    </tr>\n",
       "    <tr>\n",
       "      <th>2</th>\n",
       "      <td>Frank</td>\n",
       "      <td>5</td>\n",
       "      <td>8</td>\n",
       "    </tr>\n",
       "  </tbody>\n",
       "</table>\n",
       "</div>"
      ],
      "text/plain": [
       "    name  demerits  convictions\n",
       "0  Brian         2            6\n",
       "1   Bill         3            7\n",
       "2  Frank         5            8"
      ]
     },
     "execution_count": 9,
     "metadata": {},
     "output_type": "execute_result"
    }
   ],
   "source": [
    "df1 = pd.DataFrame({'name': ['Brian', 'Bill', 'Frank'],\n",
    "                    'demerits': [2, 3, 5]})\n",
    "df2 = pd.DataFrame({'name': ['Brian', 'Bill', 'Frank'],\n",
    "                    'convictions': [6, 7, 8]})\n",
    "df1.merge(df2, how='outer')"
   ]
  },
  {
   "cell_type": "markdown",
   "metadata": {},
   "source": [
    "Merge df1 and df2 on the lkey and rkey columns. It is similar to outer join in SQL"
   ]
  },
  {
   "cell_type": "markdown",
   "metadata": {
    "id": "HCnG6c_b5HPo"
   },
   "source": [
    "# What is faster, pd.concat([df1,df2,df3]) or a loop of df.append()? Explain your reasoning."
   ]
  },
  {
   "cell_type": "code",
   "execution_count": 10,
   "metadata": {
    "id": "ZSpcBofW5HPp",
    "outputId": "f30902be-cdd8-4633-8b87-0d299c16ecd7"
   },
   "outputs": [
    {
     "name": "stdout",
     "output_type": "stream",
     "text": [
      "Wall time: 13.5 s\n"
     ]
    },
    {
     "data": {
      "text/html": [
       "<div>\n",
       "<style scoped>\n",
       "    .dataframe tbody tr th:only-of-type {\n",
       "        vertical-align: middle;\n",
       "    }\n",
       "\n",
       "    .dataframe tbody tr th {\n",
       "        vertical-align: top;\n",
       "    }\n",
       "\n",
       "    .dataframe thead th {\n",
       "        text-align: right;\n",
       "    }\n",
       "</style>\n",
       "<table border=\"1\" class=\"dataframe\">\n",
       "  <thead>\n",
       "    <tr style=\"text-align: right;\">\n",
       "      <th></th>\n",
       "      <th>age</th>\n",
       "      <th>gender</th>\n",
       "    </tr>\n",
       "  </thead>\n",
       "  <tbody>\n",
       "    <tr>\n",
       "      <th>0</th>\n",
       "      <td>17</td>\n",
       "      <td>M</td>\n",
       "    </tr>\n",
       "    <tr>\n",
       "      <th>0</th>\n",
       "      <td>117</td>\n",
       "      <td>F</td>\n",
       "    </tr>\n",
       "    <tr>\n",
       "      <th>0</th>\n",
       "      <td>4</td>\n",
       "      <td>F</td>\n",
       "    </tr>\n",
       "    <tr>\n",
       "      <th>0</th>\n",
       "      <td>53</td>\n",
       "      <td>F</td>\n",
       "    </tr>\n",
       "    <tr>\n",
       "      <th>0</th>\n",
       "      <td>116</td>\n",
       "      <td>F</td>\n",
       "    </tr>\n",
       "  </tbody>\n",
       "</table>\n",
       "</div>"
      ],
      "text/plain": [
       "   age gender\n",
       "0   17      M\n",
       "0  117      F\n",
       "0    4      F\n",
       "0   53      F\n",
       "0  116      F"
      ]
     },
     "execution_count": 10,
     "metadata": {},
     "output_type": "execute_result"
    }
   ],
   "source": [
    "%%time\n",
    "import random\n",
    "import pandas as pd\n",
    "numRows=10000\n",
    "\n",
    "df = pd.DataFrame(columns=[\"age\",\"gender\"])\n",
    "for _ in range(numRows):\n",
    "    df2=pd.DataFrame(data={'age': [random.randint(0,120)], 'gender': [random.choice([\"M\",\"F\"])]})\n",
    "    df=df.append(df2)\n",
    "df.head()"
   ]
  },
  {
   "cell_type": "code",
   "execution_count": 11,
   "metadata": {
    "id": "9GtB4Xjz5HPp",
    "outputId": "d74e8379-7ad5-4876-ef6b-b50923cda592"
   },
   "outputs": [
    {
     "name": "stdout",
     "output_type": "stream",
     "text": [
      "Wall time: 5.69 s\n"
     ]
    },
    {
     "data": {
      "text/html": [
       "<div>\n",
       "<style scoped>\n",
       "    .dataframe tbody tr th:only-of-type {\n",
       "        vertical-align: middle;\n",
       "    }\n",
       "\n",
       "    .dataframe tbody tr th {\n",
       "        vertical-align: top;\n",
       "    }\n",
       "\n",
       "    .dataframe thead th {\n",
       "        text-align: right;\n",
       "    }\n",
       "</style>\n",
       "<table border=\"1\" class=\"dataframe\">\n",
       "  <thead>\n",
       "    <tr style=\"text-align: right;\">\n",
       "      <th></th>\n",
       "      <th>age</th>\n",
       "      <th>gender</th>\n",
       "    </tr>\n",
       "  </thead>\n",
       "  <tbody>\n",
       "    <tr>\n",
       "      <th>0</th>\n",
       "      <td>47</td>\n",
       "      <td>M</td>\n",
       "    </tr>\n",
       "    <tr>\n",
       "      <th>0</th>\n",
       "      <td>20</td>\n",
       "      <td>M</td>\n",
       "    </tr>\n",
       "    <tr>\n",
       "      <th>0</th>\n",
       "      <td>71</td>\n",
       "      <td>M</td>\n",
       "    </tr>\n",
       "    <tr>\n",
       "      <th>0</th>\n",
       "      <td>95</td>\n",
       "      <td>F</td>\n",
       "    </tr>\n",
       "    <tr>\n",
       "      <th>0</th>\n",
       "      <td>67</td>\n",
       "      <td>M</td>\n",
       "    </tr>\n",
       "  </tbody>\n",
       "</table>\n",
       "</div>"
      ],
      "text/plain": [
       "   age gender\n",
       "0   47      M\n",
       "0   20      M\n",
       "0   71      M\n",
       "0   95      F\n",
       "0   67      M"
      ]
     },
     "execution_count": 11,
     "metadata": {},
     "output_type": "execute_result"
    }
   ],
   "source": [
    "%%time\n",
    "import random\n",
    "numRows=10000\n",
    "resultArr = []\n",
    "for _ in range(numRows):\n",
    "    df2=pd.DataFrame(data={'age': [random.randint(0,120)], 'gender': [random.choice([\"M\",\"F\"])]})\n",
    "    resultArr.append(df2)\n",
    "\n",
    "df=pd.concat(resultArr)\n",
    "df.head()"
   ]
  },
  {
   "cell_type": "markdown",
   "metadata": {},
   "source": [
    "The concate command will be faster as the append method in Pandas doesn't modify the original object. Instead it creates a new one with combined data. Because of involving creation and data buffer, its performance is not well. "
   ]
  },
  {
   "cell_type": "markdown",
   "metadata": {
    "id": "bxaG3t785y9m"
   },
   "source": [
    "# What is the purpose of tools such as Flask and Django?"
   ]
  },
  {
   "cell_type": "markdown",
   "metadata": {},
   "source": [
    "Flask and Django are open-source web frameworks used in Python.Django is best suited for developing large and complex web applications, while Flask is a lightweight, extensible framework that allows you to develop small web applications."
   ]
  },
  {
   "cell_type": "markdown",
   "metadata": {
    "id": "qBOWyFhs52T_"
   },
   "source": [
    "# Compare the purposes of 1,2, and 3:\n",
    "\n",
    "1) Flask/Django/Others\n",
    "\n",
    "2) apache2/nginx\n",
    "\n",
    "3) gunicorn/other WSGI"
   ]
  },
  {
   "cell_type": "markdown",
   "metadata": {},
   "source": [
    "1. Flask and Django are web frameworks used in Python to devolop web applications.\n",
    "2. Software like Nginx and Apache handle http requests, analyze them, and then hand back the corresponding documents to be viewed in a visitor’s browser.\n",
    "3. Gunicorn implements the Web Server Gateway Interface (WSGI), which is a standard interface between web server software and web applications. It translates HTTP requests into something Python can understand."
   ]
  },
  {
   "cell_type": "markdown",
   "metadata": {
    "id": "rbsx0zS-54aO"
   },
   "source": [
    "# You are writing a program that scrapes text from a long list of websites. How would you apply parallelism to speed up the scraping task?"
   ]
  },
  {
   "cell_type": "markdown",
   "metadata": {},
   "source": [
    "We can use multiprocessing and asyncio libraries to parallelize requests to different websites or other pages on the same website"
   ]
  },
  {
   "cell_type": "markdown",
   "metadata": {
    "id": "qv9E9UDf56ie"
   },
   "source": [
    "# You are writing a python3 program. When should you use Docker and when should you use VENV?"
   ]
  },
  {
   "cell_type": "markdown",
   "metadata": {},
   "source": [
    "A virtualenv only encapsulates Python dependencies. A Docker container encapsulates an entire OS. With a Python virtualenv, you can easily switch between Python versions and dependencies, but you're stuck with your host OS. With a Docker image, you can swap out the entire OS - install and run Python on Ubuntu, Debian, Alpine, even Windows Server Core."
   ]
  },
  {
   "cell_type": "markdown",
   "metadata": {
    "id": "n5Ka_8Q257YG"
   },
   "source": [
    "# What is requirements.txt used for?"
   ]
  },
  {
   "cell_type": "markdown",
   "metadata": {},
   "source": [
    "It stores information about all the libraries, modules, and packages which are used while developing a particular project."
   ]
  },
  {
   "cell_type": "markdown",
   "metadata": {
    "id": "cXM423yY5-bO"
   },
   "source": [
    "# Why not use `git add .`"
   ]
  },
  {
   "cell_type": "markdown",
   "metadata": {},
   "source": [
    "It can also add generated files, backups, and conf files with stuff you don't want added. "
   ]
  },
  {
   "cell_type": "markdown",
   "metadata": {
    "id": "jDhtPcK25_gu"
   },
   "source": [
    "# Compare matrix multiplication using the GPU, x86 CPU, and x86 vector coprocessor such as AVX2/SSE3. Why do these different kinds of hardware all exist in our personal computers?"
   ]
  },
  {
   "cell_type": "markdown",
   "metadata": {},
   "source": [
    "Generally speaking GPUs are much faster than CPU at highly parallel simple tasks like multiplying big matrices but there are some problems in GPU computation:transfering data between normal RAM and graphics RAM takes time\n",
    "loading/starting GPU programs takes some time so while multiplication itself may be 100 (or more) times faster, you might experience an actually much smaller speedup or even a slowdown.\n",
    "There are more issues with GPUs having poor performance in comparison to CPUs like massive slowdowns on branching code."
   ]
  },
  {
   "cell_type": "markdown",
   "metadata": {
    "id": "wux62gET6C8G"
   },
   "source": [
    "# Compare and contrast Ubuntu and RHEL."
   ]
  },
  {
   "cell_type": "markdown",
   "metadata": {
    "id": "oTVqypV7_WJl"
   },
   "source": [
    "Ubuntu is a Linux based Operating System and belongs to the Debian family of Linux. Red Hat Enterprise Linux or RHEL, is a Linux-based operating system that is designed for businesses. Ubuntu is used for desktops or on server.RHEL can be used on desktops, on servers, in hypervisors or in the cloud."
   ]
  }
 ],
 "metadata": {
  "colab": {
   "name": "Interview Questions.ipynb",
   "provenance": []
  },
  "kernelspec": {
   "display_name": "Python 3",
   "language": "python",
   "name": "python3"
  },
  "language_info": {
   "codemirror_mode": {
    "name": "ipython",
    "version": 3
   },
   "file_extension": ".py",
   "mimetype": "text/x-python",
   "name": "python",
   "nbconvert_exporter": "python",
   "pygments_lexer": "ipython3",
   "version": "3.8.8"
  }
 },
 "nbformat": 4,
 "nbformat_minor": 1
}
