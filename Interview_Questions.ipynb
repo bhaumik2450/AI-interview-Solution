{
  "cells": [
    {
      "cell_type": "markdown",
      "metadata": {
        "id": "9_7yNn6S5HPg"
      },
      "source": [
        "# What is a Generator and why use it?"
      ]
    },
    {
      "cell_type": "code",
      "execution_count": 3,
      "metadata": {
        "colab": {
          "base_uri": "https://localhost:8080/"
        },
        "id": "FfMp1frP5HPi",
        "outputId": "a873ecfb-3c5e-4cc9-c153-15889e110c46"
      },
      "outputs": [
        {
          "output_type": "stream",
          "name": "stdout",
          "text": [
            "--2022-01-07 14:54:15--  https://www.stats.govt.nz/assets/Uploads/Annual-enterprise-survey/Annual-enterprise-survey-2020-financial-year-provisional/Download-data/annual-enterprise-survey-2020-financial-year-provisional-csv.csv\n",
            "Resolving www.stats.govt.nz (www.stats.govt.nz)... 45.60.11.104\n",
            "Connecting to www.stats.govt.nz (www.stats.govt.nz)|45.60.11.104|:443... connected.\n",
            "HTTP request sent, awaiting response... 200 OK\n",
            "Length: 5881081 (5.6M) [text/csv]\n",
            "Saving to: ‘data.csv’\n",
            "\n",
            "data.csv            100%[===================>]   5.61M  1.22MB/s    in 4.8s    \n",
            "\n",
            "2022-01-07 14:54:22 (1.17 MB/s) - ‘data.csv’ saved [5881081/5881081]\n",
            "\n",
            "Year,Industry_aggregation_NZSIOC,Industry_code_NZSIOC,Industry_name_NZSIOC,Units,Variable_code,Variable_name,Variable_category,Value,Industry_code_ANZSIC06\n",
            "\n",
            "2020,Level 1,99999,All industries,Dollars (millions),H01,Total income,Financial performance,\"733,258\",\"ANZSIC06 divisions A-S (excluding classes K6330, L6711, O7552, O760, O771, O772, S9540, S9601, S9602, and S9603)\"\n",
            "\n"
          ]
        }
      ],
      "source": [
        "def csv_reader(file_name):\n",
        "    for row in open(file_name, \"r\"):\n",
        "        yield row\n",
        "!wget -O data.csv https://www.stats.govt.nz/assets/Uploads/Annual-enterprise-survey/Annual-enterprise-survey-2020-financial-year-provisional/Download-data/annual-enterprise-survey-2020-financial-year-provisional-csv.csv\n",
        "reader = csv_reader(\"data.csv\")\n",
        "print(next(reader))\n",
        "print(next(reader))"
      ]
    },
    {
      "cell_type": "markdown",
      "metadata": {
        "id": "Mr1omLgs5HPj"
      },
      "source": [
        "# What is a Decorator and why use it?"
      ]
    },
    {
      "cell_type": "code",
      "execution_count": null,
      "metadata": {
        "id": "N5h9pSA65HPk",
        "outputId": "c63f466b-5569-47c1-c746-444a70c4e3c7"
      },
      "outputs": [
        {
          "name": "stdout",
          "output_type": "stream",
          "text": [
            "Daniel\n",
            "=====\n",
            "This is your name: Daniel\n",
            "=====\n",
            "Your name is: Daniel\n",
            "Nice to meet you.\n"
          ]
        }
      ],
      "source": [
        "def getName():\n",
        "    return \"Daniel\"\n",
        "\n",
        "def addTextToName(function):\n",
        "    def wrapper():\n",
        "        return \"This is your name: {}\".format(function())\n",
        "    return wrapper\n",
        "\n",
        "namePrinter = addTextToName(getName)\n",
        "\n",
        "def wrapName(func):\n",
        "    def wrapper():\n",
        "        print(\"Your name is: {}\".format(func()))\n",
        "        print(\"Nice to meet you.\")\n",
        "    return wrapper\n",
        "\n",
        "@wrapName\n",
        "def getNameWrapped():\n",
        "    return \"Daniel\"\n",
        "\n",
        "print(getName())\n",
        "print(\"=====\")\n",
        "print(namePrinter())\n",
        "print(\"=====\")\n",
        "getNameWrapped()"
      ]
    },
    {
      "cell_type": "markdown",
      "metadata": {
        "id": "qyMHhml95HPk"
      },
      "source": [
        "# What is list/dict comprehension and why use it?"
      ]
    },
    {
      "cell_type": "code",
      "execution_count": null,
      "metadata": {
        "id": "VDIXSKIK5HPl",
        "outputId": "367903a6-3bb9-4e7e-e6bb-264bf7267cf0"
      },
      "outputs": [
        {
          "name": "stdout",
          "output_type": "stream",
          "text": [
            "{'key_Anne': 56500.0, 'key_Bert': 67800.0, 'key_Carl': 79100.0, 'key_Dom': 90400.0}\n"
          ]
        }
      ],
      "source": [
        "salaries = {'Anne': 50000, 'Bert': 60000, 'Carl': 70000, 'Dom': 80000}\n",
        "raisedSalaries = {\"key_\"+k:round(v*1.13,0) for (k,v) in salaries.items()}\n",
        "print(raisedSalaries)"
      ]
    },
    {
      "cell_type": "code",
      "execution_count": null,
      "metadata": {
        "id": "tThBumJM5HPl",
        "outputId": "b1ab4071-7ba9-4fca-ba82-987f347e7b5e"
      },
      "outputs": [
        {
          "data": {
            "text/plain": [
              "[1]"
            ]
          },
          "execution_count": 7,
          "metadata": {},
          "output_type": "execute_result"
        }
      ],
      "source": [
        "something = [1,2,3]\n",
        "a = [i for i in something if i<2]\n",
        "a"
      ]
    },
    {
      "cell_type": "markdown",
      "metadata": {
        "id": "WLaKyiHx5HPm"
      },
      "source": [
        "# You are multithreading a list of parallel tasks using a thread pool. What is t.join() used for? What is the purpose of using t.join() rather than skipping it. This program seems to work with or without the t.join(). Why do we still include it?"
      ]
    },
    {
      "cell_type": "code",
      "execution_count": null,
      "metadata": {
        "id": "FmoYy1Is5HPm",
        "outputId": "793b2cf9-d5f9-44a4-e609-623d4b731d19"
      },
      "outputs": [
        {
          "name": "stdout",
          "output_type": "stream",
          "text": [
            "done 1done 2\n",
            "done 0\n",
            "\n",
            "ALL WORK DONE\n",
            "TOTAL=3\n"
          ]
        }
      ],
      "source": [
        "from threading import Thread\n",
        "from queue import Queue\n",
        "import time\n",
        "\n",
        "def worker(args,q):\n",
        "    time.sleep(1)\n",
        "    print(\"done {}\".format(args))\n",
        "    q.put(1)\n",
        "    return\n",
        "\n",
        "workerList=[]\n",
        "for i in range(3):\n",
        "    q = Queue()\n",
        "    t = Thread(target=worker,args=(i,q))\n",
        "    t.start()\n",
        "    workerList.append([q,t])\n",
        "\n",
        "for i,workerPair in enumerate(workerList):\n",
        "    workerPair[1].join()\n",
        "    \n",
        "print(\"ALL WORK DONE\")\n",
        "\n",
        "total=0\n",
        "for i,workerPair in enumerate(workerList):\n",
        "    total+=workerPair[0].get()\n",
        "    \n",
        "print(\"TOTAL={}\".format(total))"
      ]
    },
    {
      "cell_type": "markdown",
      "metadata": {
        "id": "yfAjOVAt5HPn"
      },
      "source": [
        "# What is df.apply(myFunction, axis=1)?"
      ]
    },
    {
      "cell_type": "code",
      "execution_count": null,
      "metadata": {
        "id": "J8oFrKfD5HPo",
        "outputId": "84015188-446e-4130-ae8b-9e1a6528f38a"
      },
      "outputs": [
        {
          "data": {
            "text/html": [
              "<div>\n",
              "<style scoped>\n",
              "    .dataframe tbody tr th:only-of-type {\n",
              "        vertical-align: middle;\n",
              "    }\n",
              "\n",
              "    .dataframe tbody tr th {\n",
              "        vertical-align: top;\n",
              "    }\n",
              "\n",
              "    .dataframe thead th {\n",
              "        text-align: right;\n",
              "    }\n",
              "</style>\n",
              "<table border=\"1\" class=\"dataframe\">\n",
              "  <thead>\n",
              "    <tr style=\"text-align: right;\">\n",
              "      <th></th>\n",
              "      <th>name</th>\n",
              "      <th>reversed</th>\n",
              "    </tr>\n",
              "  </thead>\n",
              "  <tbody>\n",
              "    <tr>\n",
              "      <th>0</th>\n",
              "      <td>Alice</td>\n",
              "      <td>ecilA</td>\n",
              "    </tr>\n",
              "    <tr>\n",
              "      <th>1</th>\n",
              "      <td>Bob</td>\n",
              "      <td>boB</td>\n",
              "    </tr>\n",
              "  </tbody>\n",
              "</table>\n",
              "</div>"
            ],
            "text/plain": [
              "    name reversed\n",
              "0  Alice    ecilA\n",
              "1    Bob      boB"
            ]
          },
          "metadata": {},
          "output_type": "display_data"
        }
      ],
      "source": [
        "import pandas as pd\n",
        "\n",
        "def reverseName(row):\n",
        "    text=row[\"name\"]\n",
        "    return \"\".join(reversed(list(text)))\n",
        "\n",
        "df = pd.DataFrame(data={'name': [\"Alice\", \"Bob\"]})\n",
        "df[\"reversed\"]=df.apply(reverseName,axis=1)\n",
        "display(df.head())"
      ]
    },
    {
      "cell_type": "markdown",
      "metadata": {
        "id": "WA5pPH_X5HPo"
      },
      "source": [
        "# What operation is df1.merge(df2, left_on='lkey', right_on='rkey') doing? What would this be called in SQL?"
      ]
    },
    {
      "cell_type": "code",
      "execution_count": null,
      "metadata": {
        "id": "L5HWzvMG5HPo",
        "outputId": "ca6e400c-3a77-4408-f1ad-f88bca4856f8"
      },
      "outputs": [
        {
          "data": {
            "text/html": [
              "<div>\n",
              "<style scoped>\n",
              "    .dataframe tbody tr th:only-of-type {\n",
              "        vertical-align: middle;\n",
              "    }\n",
              "\n",
              "    .dataframe tbody tr th {\n",
              "        vertical-align: top;\n",
              "    }\n",
              "\n",
              "    .dataframe thead th {\n",
              "        text-align: right;\n",
              "    }\n",
              "</style>\n",
              "<table border=\"1\" class=\"dataframe\">\n",
              "  <thead>\n",
              "    <tr style=\"text-align: right;\">\n",
              "      <th></th>\n",
              "      <th>name</th>\n",
              "      <th>demerits</th>\n",
              "      <th>convictions</th>\n",
              "    </tr>\n",
              "  </thead>\n",
              "  <tbody>\n",
              "    <tr>\n",
              "      <th>0</th>\n",
              "      <td>Brian</td>\n",
              "      <td>2</td>\n",
              "      <td>6</td>\n",
              "    </tr>\n",
              "    <tr>\n",
              "      <th>1</th>\n",
              "      <td>Bill</td>\n",
              "      <td>3</td>\n",
              "      <td>7</td>\n",
              "    </tr>\n",
              "    <tr>\n",
              "      <th>2</th>\n",
              "      <td>Frank</td>\n",
              "      <td>5</td>\n",
              "      <td>8</td>\n",
              "    </tr>\n",
              "  </tbody>\n",
              "</table>\n",
              "</div>"
            ],
            "text/plain": [
              "    name  demerits  convictions\n",
              "0  Brian         2            6\n",
              "1   Bill         3            7\n",
              "2  Frank         5            8"
            ]
          },
          "execution_count": 24,
          "metadata": {},
          "output_type": "execute_result"
        }
      ],
      "source": [
        "df1 = pd.DataFrame({'name': ['Brian', 'Bill', 'Frank'],\n",
        "                    'demerits': [2, 3, 5]})\n",
        "df2 = pd.DataFrame({'name': ['Brian', 'Bill', 'Frank'],\n",
        "                    'convictions': [6, 7, 8]})\n",
        "df1.merge(df2, on='name')"
      ]
    },
    {
      "cell_type": "markdown",
      "metadata": {
        "id": "HCnG6c_b5HPo"
      },
      "source": [
        "# What is faster, pd.concat([df1,df2,df3]) or a loop of df.append()? Explain your reasoning."
      ]
    },
    {
      "cell_type": "code",
      "execution_count": null,
      "metadata": {
        "id": "ZSpcBofW5HPp",
        "outputId": "f30902be-cdd8-4633-8b87-0d299c16ecd7"
      },
      "outputs": [
        {
          "name": "stdout",
          "output_type": "stream",
          "text": [
            "Wall time: 8.55 s\n"
          ]
        },
        {
          "data": {
            "text/html": [
              "<div>\n",
              "<style scoped>\n",
              "    .dataframe tbody tr th:only-of-type {\n",
              "        vertical-align: middle;\n",
              "    }\n",
              "\n",
              "    .dataframe tbody tr th {\n",
              "        vertical-align: top;\n",
              "    }\n",
              "\n",
              "    .dataframe thead th {\n",
              "        text-align: right;\n",
              "    }\n",
              "</style>\n",
              "<table border=\"1\" class=\"dataframe\">\n",
              "  <thead>\n",
              "    <tr style=\"text-align: right;\">\n",
              "      <th></th>\n",
              "      <th>age</th>\n",
              "      <th>gender</th>\n",
              "    </tr>\n",
              "  </thead>\n",
              "  <tbody>\n",
              "    <tr>\n",
              "      <th>0</th>\n",
              "      <td>110</td>\n",
              "      <td>M</td>\n",
              "    </tr>\n",
              "    <tr>\n",
              "      <th>0</th>\n",
              "      <td>75</td>\n",
              "      <td>M</td>\n",
              "    </tr>\n",
              "    <tr>\n",
              "      <th>0</th>\n",
              "      <td>116</td>\n",
              "      <td>F</td>\n",
              "    </tr>\n",
              "    <tr>\n",
              "      <th>0</th>\n",
              "      <td>9</td>\n",
              "      <td>M</td>\n",
              "    </tr>\n",
              "    <tr>\n",
              "      <th>0</th>\n",
              "      <td>4</td>\n",
              "      <td>F</td>\n",
              "    </tr>\n",
              "  </tbody>\n",
              "</table>\n",
              "</div>"
            ],
            "text/plain": [
              "   age gender\n",
              "0  110      M\n",
              "0   75      M\n",
              "0  116      F\n",
              "0    9      M\n",
              "0    4      F"
            ]
          },
          "execution_count": 16,
          "metadata": {},
          "output_type": "execute_result"
        }
      ],
      "source": [
        "%%time\n",
        "import random\n",
        "import pandas as pd\n",
        "numRows=10000\n",
        "\n",
        "df = pd.DataFrame(columns=[\"age\",\"gender\"])\n",
        "for _ in range(numRows):\n",
        "    df2=pd.DataFrame(data={'age': [random.randint(0,120)], 'gender': [random.choice([\"M\",\"F\"])]})\n",
        "    df=df.append(df2)\n",
        "df.head()"
      ]
    },
    {
      "cell_type": "code",
      "execution_count": null,
      "metadata": {
        "id": "9GtB4Xjz5HPp",
        "outputId": "d74e8379-7ad5-4876-ef6b-b50923cda592"
      },
      "outputs": [
        {
          "name": "stdout",
          "output_type": "stream",
          "text": [
            "Wall time: 3.52 s\n"
          ]
        },
        {
          "data": {
            "text/html": [
              "<div>\n",
              "<style scoped>\n",
              "    .dataframe tbody tr th:only-of-type {\n",
              "        vertical-align: middle;\n",
              "    }\n",
              "\n",
              "    .dataframe tbody tr th {\n",
              "        vertical-align: top;\n",
              "    }\n",
              "\n",
              "    .dataframe thead th {\n",
              "        text-align: right;\n",
              "    }\n",
              "</style>\n",
              "<table border=\"1\" class=\"dataframe\">\n",
              "  <thead>\n",
              "    <tr style=\"text-align: right;\">\n",
              "      <th></th>\n",
              "      <th>age</th>\n",
              "      <th>gender</th>\n",
              "    </tr>\n",
              "  </thead>\n",
              "  <tbody>\n",
              "    <tr>\n",
              "      <th>0</th>\n",
              "      <td>109</td>\n",
              "      <td>F</td>\n",
              "    </tr>\n",
              "    <tr>\n",
              "      <th>0</th>\n",
              "      <td>62</td>\n",
              "      <td>M</td>\n",
              "    </tr>\n",
              "    <tr>\n",
              "      <th>0</th>\n",
              "      <td>113</td>\n",
              "      <td>M</td>\n",
              "    </tr>\n",
              "    <tr>\n",
              "      <th>0</th>\n",
              "      <td>43</td>\n",
              "      <td>M</td>\n",
              "    </tr>\n",
              "    <tr>\n",
              "      <th>0</th>\n",
              "      <td>50</td>\n",
              "      <td>M</td>\n",
              "    </tr>\n",
              "  </tbody>\n",
              "</table>\n",
              "</div>"
            ],
            "text/plain": [
              "   age gender\n",
              "0  109      F\n",
              "0   62      M\n",
              "0  113      M\n",
              "0   43      M\n",
              "0   50      M"
            ]
          },
          "execution_count": 17,
          "metadata": {},
          "output_type": "execute_result"
        }
      ],
      "source": [
        "%%time\n",
        "import random\n",
        "numRows=10000\n",
        "resultArr = []\n",
        "for _ in range(numRows):\n",
        "    df2=pd.DataFrame(data={'age': [random.randint(0,120)], 'gender': [random.choice([\"M\",\"F\"])]})\n",
        "    resultArr.append(df2)\n",
        "\n",
        "df=pd.concat(resultArr)\n",
        "df.head()"
      ]
    },
    {
      "cell_type": "markdown",
      "source": [
        "# What is the purpose of tools such as Flask and Django?"
      ],
      "metadata": {
        "id": "bxaG3t785y9m"
      }
    },
    {
      "cell_type": "markdown",
      "source": [
        "# Compare the purposes of 1,2, and 3:\n",
        "\n",
        "1) Flask/Django/Others\n",
        "\n",
        "2) apache2/nginx\n",
        "\n",
        "3) gunicorn/other WSGI"
      ],
      "metadata": {
        "id": "qBOWyFhs52T_"
      }
    },
    {
      "cell_type": "markdown",
      "source": [
        "# You are writing a program that scrapes text from a long list of websites. How would you apply parallelism to speed up the scraping task?"
      ],
      "metadata": {
        "id": "rbsx0zS-54aO"
      }
    },
    {
      "cell_type": "markdown",
      "source": [
        "# You are writing a python3 program. When should you use Docker and when should you use VENV?"
      ],
      "metadata": {
        "id": "qv9E9UDf56ie"
      }
    },
    {
      "cell_type": "markdown",
      "source": [
        "# What is requirements.txt used for?"
      ],
      "metadata": {
        "id": "n5Ka_8Q257YG"
      }
    },
    {
      "cell_type": "markdown",
      "source": [
        "# Why not use `git add .`"
      ],
      "metadata": {
        "id": "cXM423yY5-bO"
      }
    },
    {
      "cell_type": "markdown",
      "source": [
        "# Compare matrix multiplication using the GPU, x86 CPU, and x86 vector coprocessor such as AVX2/SSE3. Why do these different kinds of hardware all exist in our personal computers?"
      ],
      "metadata": {
        "id": "jDhtPcK25_gu"
      }
    },
    {
      "cell_type": "markdown",
      "source": [
        "# Compare and contrast Ubuntu and RHEL."
      ],
      "metadata": {
        "id": "wux62gET6C8G"
      }
    },
    {
      "cell_type": "code",
      "source": [
        ""
      ],
      "metadata": {
        "id": "oTVqypV7_WJl"
      },
      "execution_count": null,
      "outputs": []
    }
  ],
  "metadata": {
    "kernelspec": {
      "display_name": "Python 3",
      "language": "python",
      "name": "python3"
    },
    "language_info": {
      "codemirror_mode": {
        "name": "ipython",
        "version": 3
      },
      "file_extension": ".py",
      "mimetype": "text/x-python",
      "name": "python",
      "nbconvert_exporter": "python",
      "pygments_lexer": "ipython3",
      "version": "3.8.5"
    },
    "colab": {
      "name": "Interview Questions.ipynb",
      "provenance": []
    }
  },
  "nbformat": 4,
  "nbformat_minor": 0
}